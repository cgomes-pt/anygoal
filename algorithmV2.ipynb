{
 "cells": [
  {
   "cell_type": "markdown",
   "metadata": {},
   "source": [
    "# Imports"
   ]
  },
  {
   "cell_type": "code",
   "execution_count": null,
   "metadata": {},
   "outputs": [],
   "source": [
    "import pandas as pd\n",
    "import numpy as np\n",
    "import warnings\n",
    "import random\n",
    "from multiprocessing import Manager\n",
    "from concurrent.futures import ProcessPoolExecutor\n",
    "warnings.filterwarnings(\"ignore\")\n",
    "from PIL import Image, ImageDraw, ImageFont\n",
    "import operator\n",
    "import docx\n",
    "from docx.shared import Pt\n",
    "import os\n",
    "import json"
   ]
  },
  {
   "cell_type": "markdown",
   "metadata": {},
   "source": [
    "# Load data"
   ]
  },
  {
   "cell_type": "code",
   "execution_count": null,
   "metadata": {},
   "outputs": [],
   "source": [
    "available_players = [\"nsilva\", \"ggomes\", \"guest_gregs\", \"esousa\",\n",
    "                     \"guest_random\", \"pduarte\", \"apimenta\", \"spinto\",\n",
    "                     \"jsilva\", 'gcosteira']\n",
    " \n",
    "db = \"players_07_23.xlsx\"\n",
    "season = \"anygoal_season_2023_resume.csv\"\n",
    "\n",
    "# player's database\n",
    "anybrain_df = pd.read_excel(db, engine='openpyxl', sheet_name='Folha4')\n",
    "\n",
    "# Season\n",
    "anygoal_df = pd.read_csv(season)\n",
    "# stats\n",
    "player_stats = ['Ataque', 'Tecnica', 'Tatica', 'Defesa', 'Criatividade','Fisico', 'TrabalhoEquipa', 'Ambicao', 'GK', 'MeanPoints','MeanPointsNoGR','Point_System']\n",
    "# weights\n",
    "weights = {'Ataque': 1, 'Tecnica': 1, 'Tatica': 1, 'Defesa': 1, 'Criatividade': 1, 'Fisico': 1, 'TrabalhoEquipa': 1, 'Ambicao': 1, 'GK': 1, 'MeanPoints': 1, 'MeanPointsNoGR': 1, 'Point_System': 0}"
   ]
  },
  {
   "cell_type": "markdown",
   "metadata": {},
   "source": [
    "# Treating data "
   ]
  },
  {
   "cell_type": "code",
   "execution_count": null,
   "metadata": {},
   "outputs": [],
   "source": [
    "def treat_df(anybrain_df, anygoal_data):\n",
    "  with open('players.json', 'r') as file:\n",
    "    nomes = json.load(file)\n",
    "\n",
    "  # Update the names\n",
    "  anybrain_df['Player'] = anybrain_df['Player'].replace(nomes)\n",
    "\n",
    "  # Merge dataframes\n",
    "  merged_df = anybrain_df.merge(anygoal_data, left_on = 'Player', right_on = 'Player')\n",
    "\n",
    "  # Removing useless stuff\n",
    "  merged_df.drop(['Unnamed: 0',\"Participation\", \"Goals\", \"Assists\", \"Own_Goals\", \"Result\", \"MVP\", \"BGK\"], axis=1, inplace=True)\n",
    "\n",
    "  return merged_df"
   ]
  },
  {
   "cell_type": "code",
   "execution_count": null,
   "metadata": {},
   "outputs": [],
   "source": [
    "# Merging dataframes\n",
    "merged_df = treat_df(anybrain_df, anygoal_df)\n",
    "merged_df"
   ]
  },
  {
   "cell_type": "code",
   "execution_count": null,
   "metadata": {},
   "outputs": [],
   "source": [
    "# Getting the players \n",
    "data_players = merged_df[merged_df.Player.isin(available_players)]\n",
    "data_players"
   ]
  },
  {
   "cell_type": "markdown",
   "metadata": {},
   "source": [
    "# Creating teams"
   ]
  },
  {
   "cell_type": "code",
   "execution_count": null,
   "metadata": {},
   "outputs": [],
   "source": [
    "# Check the difference between teams\n",
    "def evaluate_team(teamA, teamB, player_stats, weights):\n",
    "    dict_A = {stat : teamA[stat].mean() * weights[stat] for stat in player_stats}\n",
    "    dict_B = {stat : teamB[stat].mean() * weights[stat] for stat in player_stats}\n",
    "\n",
    "    # Check the difference between stats  \n",
    "    difference_stats = {}\n",
    "    for stat in player_stats:\n",
    "        difference_stats[stat] = abs(dict_A[stat] - dict_B[stat])\n",
    "        \n",
    "    return difference_stats"
   ]
  },
  {
   "cell_type": "code",
   "execution_count": null,
   "metadata": {},
   "outputs": [],
   "source": [
    "# Create random teams \n",
    "def random_teams(df):\n",
    "    num_jogadores = len(df)\n",
    "    shuffle_index = list(range(num_jogadores))\n",
    "    random.shuffle(shuffle_index)\n",
    "\n",
    "    mid = num_jogadores // 2\n",
    "    equipe1_indices = shuffle_index[:mid]\n",
    "    equipe2_indices = shuffle_index[mid:]\n",
    "\n",
    "    teamA = df.iloc[equipe1_indices].reset_index(drop=True)\n",
    "    teamB = df.iloc[equipe2_indices].reset_index(drop=True)\n",
    "\n",
    "    return teamA, teamB"
   ]
  },
  {
   "cell_type": "code",
   "execution_count": null,
   "metadata": {},
   "outputs": [],
   "source": [
    "# Reproducing teams \n",
    "def reproduce_teams(teamA, teamB): \n",
    "        \n",
    "    crossover_point = random.randint(1, len(teamA) - 1)\n",
    "    \n",
    "    new_teamA = pd.concat([teamA.iloc[:crossover_point], teamB.iloc[crossover_point:]]).reset_index(drop=True)\n",
    "    new_teamB = pd.concat([teamB.iloc[:crossover_point], teamA.iloc[crossover_point:]]).reset_index(drop=True)\n",
    "        \n",
    "    return new_teamA, new_teamB"
   ]
  },
  {
   "cell_type": "code",
   "execution_count": null,
   "metadata": {},
   "outputs": [],
   "source": [
    "# Genetic algorithm to create balanced teams \n",
    "def create_balanced_teams(df, player_stats, weights, num_gen=5000, num_sons = 20):\n",
    "    # We create two random teams\n",
    "    best_teamA, best_teamB = random_teams(df)\n",
    "    # then we evaluate these teams  \n",
    "    best_team_dict_diff = evaluate_team(best_teamA, best_teamB, player_stats, weights)\n",
    "    best_team_sum_diff = sum(best_team_dict_diff.values()) / len(best_team_dict_diff)\n",
    "\n",
    "    for geracao in range(num_gen):\n",
    "        new_teamsA = []\n",
    "        new_teamsB = []\n",
    "        evaluate_teams = [] \n",
    "        evaluate_teams_sum_diff = []\n",
    "        \n",
    "        # For each generation, we will create like 20 sons\n",
    "        for i in range(num_sons):\n",
    "            # Reproducing the teams\n",
    "            new_teamA, new_teamB = reproduce_teams(best_teamA, best_teamB)\n",
    "            # Adding them to the list\n",
    "            new_teamsA.append(new_teamA)\n",
    "            new_teamsB.append(new_teamB)\n",
    "            # Evaluate the difference between them\n",
    "            diff = evaluate_team(new_teamA, new_teamB, player_stats, weights)\n",
    "            evaluate_teams.append(diff)\n",
    "            evaluate_teams_sum_diff.append(sum(diff.values()) /len(diff))\n",
    "                    \n",
    "        # Find the index where we got the lowest difference \n",
    "        indice_best_team = evaluate_teams_sum_diff.index(min(evaluate_teams_sum_diff))        \n",
    "\n",
    "        # Compare that one with the best result until now\n",
    "        if evaluate_teams_sum_diff[indice_best_team] < best_team_sum_diff:\n",
    "            best_teamA = new_teamsA[indice_best_team]\n",
    "            best_teamB = new_teamsB[indice_best_team]\n",
    "            best_team_dict_diff = evaluate_teams[indice_best_team]\n",
    "            best_team_sum_diff = evaluate_teams_sum_diff[indice_best_team]\n",
    "            \n",
    "    \n",
    "    return best_teamA, best_teamB, best_team_dict_diff, best_team_sum_diff\n",
    "    "
   ]
  },
  {
   "cell_type": "code",
   "execution_count": null,
   "metadata": {},
   "outputs": [],
   "source": [
    "equipaA, equipaB, stats, diff = create_balanced_teams(data_players, player_stats, weights)"
   ]
  },
  {
   "cell_type": "code",
   "execution_count": null,
   "metadata": {},
   "outputs": [],
   "source": [
    "equipaA, equipaB"
   ]
  },
  {
   "cell_type": "code",
   "execution_count": null,
   "metadata": {},
   "outputs": [],
   "source": [
    "diff"
   ]
  },
  {
   "cell_type": "markdown",
   "metadata": {},
   "source": [
    "# Creating images "
   ]
  },
  {
   "cell_type": "code",
   "execution_count": null,
   "metadata": {},
   "outputs": [],
   "source": [
    "def build_game_sheet(A, B):\n",
    "    # Prepare the initial settings\n",
    "    tmp = [\"Jogador_1\", \"Jogador_2\", \"Jogador_3\", \"Jogador_4\", \"Jogador_5\", \"Jogador_6\", \"Jogador_7\", \"Jogador_8\", \"Jogador_9\", \"Jogador_10\"]\n",
    "    tmp2 = A + B\n",
    "    full_players = dict(zip(tmp,tmp2))\n",
    "    \n",
    "    # Remove any previous existing game sheet\n",
    "    if os.path.exists(\"./Anygoal_Template.docx\"):\n",
    "        os.remove(\"./Anygoal_Template.docx\")\n",
    "\n",
    "    # Open the template file\n",
    "    doc = docx.Document(\"./template/Anygoal_Template.docx\")\n",
    "    \n",
    "    # Search any cell with string equal to tmp and replace it with tmp2 values\n",
    "    for table in doc.tables:\n",
    "        for row in table.rows:\n",
    "            for cell in row.cells:\n",
    "                if cell.text in full_players:\n",
    "                    cell.text = cell.text.replace(cell.text, full_players[cell.text])\n",
    "\n",
    "    # Save the new game sheet\n",
    "    doc.save(\"./Anygoal_Template.docx\")"
   ]
  },
  {
   "cell_type": "markdown",
   "metadata": {},
   "source": [
    "# Deciding whos washing\n"
   ]
  },
  {
   "cell_type": "code",
   "execution_count": null,
   "metadata": {},
   "outputs": [],
   "source": [
    "def whos_washing(df):\n",
    "    # Open and create the image object so it can be ready to be edited\n",
    "    \n",
    "    winner = df.sample(n=1)['Player'].values[0]    \n",
    "    \n",
    "    starter = Image.open(\"./template/who_washing.png\")\n",
    "    draw = ImageDraw.Draw(starter) \n",
    "    # Font\n",
    "    font = ImageFont.truetype(\"./template/newsgott-regular.ttf\", 50)\n",
    "    options = {'bold':True}\n",
    "\n",
    "    draw.text((270, 90), winner.upper(), font=font, **options)    \n",
    "    starter.save(\"winner.png\")"
   ]
  },
  {
   "cell_type": "code",
   "execution_count": null,
   "metadata": {},
   "outputs": [],
   "source": [
    "whos_washing(data_players)"
   ]
  }
 ],
 "metadata": {
  "kernelspec": {
   "display_name": "Python 3",
   "language": "python",
   "name": "python3"
  },
  "language_info": {
   "codemirror_mode": {
    "name": "ipython",
    "version": 3
   },
   "file_extension": ".py",
   "mimetype": "text/x-python",
   "name": "python",
   "nbconvert_exporter": "python",
   "pygments_lexer": "ipython3",
   "version": "3.11.4"
  },
  "orig_nbformat": 4
 },
 "nbformat": 4,
 "nbformat_minor": 2
}
