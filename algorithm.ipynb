{
 "cells": [
  {
   "cell_type": "code",
   "execution_count": null,
   "id": "5b6d9abb",
   "metadata": {
    "code_folding": [
     18,
     25
    ]
   },
   "outputs": [],
   "source": [
    "import pandas as pd\n",
    "import numpy as np\n",
    "import warnings\n",
    "import random\n",
    "from multiprocessing import Manager\n",
    "from concurrent.futures import ProcessPoolExecutor\n",
    "warnings.filterwarnings(\"ignore\")\n",
    "from PIL import Image, ImageDraw, ImageFont\n",
    "import operator\n",
    "import docx\n",
    "from docx.shared import Pt\n",
    "import os\n",
    "from balance_dfs import balance_dfs\n",
    "\n",
    "available_players = [\"nsilva\", \"guest_jpab\", \"guest_cgomes\", \"pduarte\", \n",
    "                     \"guest_diogo\", \"rpinheiro\", \"ggomes\", \"guest_pfreitas\", \n",
    "                     \"guest_gregs\", 'guest_sono']\n",
    "\n",
    "anygoal_data = pd.read_csv(\"anygoal_season_2023_resume.csv\")\n",
    "\n",
    "anybrain_df = pd.read_excel(\"players_07_23.xlsx\", engine='openpyxl', sheet_name='Folha4')\n",
    "\n",
    "player_stats = ['Ataque', 'Tecnica', 'Tatica', 'Defesa', 'Criatividade', \n",
    "                'Fisico', 'TrabalhoEquipa', 'Ambicao', 'GK', 'MeanPoints',\n",
    "                'MeanPointsNoGR' 'Point_System']"
   ]
  },
  {
   "cell_type": "code",
   "execution_count": null,
   "id": "2aee3789",
   "metadata": {},
   "outputs": [],
   "source": [
    "def add_guest_player(anybrain_df):\n",
    "    # Get the new players\n",
    "    new_players = set(available_players) - set(anybrain_df.Player.tolist())\n",
    "\n",
    "    # Get the similar player\n",
    "    similar_players = [input(\"Who does {} look like? \".format(player)) for player in new_players]\n",
    "                         \n",
    "    for player, guest in zip(similar_players, new_players):\n",
    "        # Create a copy of the similar player\n",
    "        player_data = anybrain_df[anybrain_df.Player == player].copy()\n",
    "        # Change the player name\n",
    "        player_data.loc[(player_data.Player == player), \"Player\"] = guest\n",
    "        # Add the new row\n",
    "        anybrain_df = anybrain_df.append(player_data.to_dict('records')[0], ignore_index=True)\n",
    "        \n",
    "        # Give any note on the player\n",
    "        player_note = input(\"Any note for {}? \".format(guest)).upper().split()\n",
    "        if any(x not in player_note for x in [\"NO\", \"NONE\", \"NEGATIVE\"]):\n",
    "            for stat in player_stats[:-3]:\n",
    "                # Create boolean masks\n",
    "                better_stat_mask = (anybrain_df.Player == guest) & (stat.upper() in player_note) & ('better'.upper() in player_note)\n",
    "                worse_stat_mask = (anybrain_df.Player == guest) & (stat.upper() in player_note) & ('worse'.upper() in player_note)\n",
    "\n",
    "                # Stat update\n",
    "                anybrain_df.loc[better_stat_mask & ('much'.upper() in player_note), stat] += 2\n",
    "                anybrain_df.loc[worse_stat_mask & ('much'.upper() in player_note), stat] -= 2\n",
    "                anybrain_df.loc[better_stat_mask, stat] += 1\n",
    "                anybrain_df.loc[worse_stat_mask, stat] -= 1\n",
    "\n",
    "                \n",
    "        # Update the overall values\n",
    "        aux = anybrain_df[(anybrain_df.Player == guest)]\n",
    "        anybrain_df.loc[(anybrain_df.Player == guest), 'Overall'] = aux[player_stats[:-3]].mean(axis=1)\n",
    "        anybrain_df.loc[(anybrain_df.Player == guest), 'Overall_No_GK'] = aux[player_stats[:-4]].mean(axis=1)\n",
    "    \n",
    "    return anybrain_df, list(new_players)\n",
    "        \n",
    "def treat_and_merge(anybrain_df, anygoal_data):\n",
    "    anybrain_df = anybrain_df.dropna(axis=1, how='all')\n",
    "    anybrain_df.columns = ['Player','Ataque', 'Tecnica', 'Tatica', 'Defesa', 'Criatividade', \n",
    "                           'Fisico', 'TrabalhoEquipa', 'Ambicao', 'GK', 'MeanPoints','MeanPointsNoGR']\n",
    "    \n",
    "    anybrain_df.Player.replace({'Jpab' : 'guest_jpab', 'J lopes' : 'guest_jlopes', 'carlos' : 'guest_cgomes', \n",
    "                              'Mineiro' : 'nsilva', 'Nelo' : 'esousa', 'Ze' : 'jsilva', 'Fintas' : 'spinto', \n",
    "                              'Pimenta' : 'apimenta', 'Xerife' : 'rpinheiro', 'Champion' : 'pduarte', \n",
    "                              'Gus' : 'ggomes', 'Costeira' : 'gcosteira', 'Flash' : 'guest_flash', \n",
    "                              'random' : 'guest_random', \"anguyen\" : 'ahn-vu', \"gregs\" : \"guest_gregs\"}, inplace=True)\n",
    "    \n",
    "    # Add the guest player to the bd, and his values will be the most similar to a specific player\n",
    "    anybrain_df, new_players = add_guest_player(anybrain_df)\n",
    "    new_players.extend([x for x in available_players if (x not in anygoal_data.Player.unique())])\n",
    "    for player in np.unique(new_players):\n",
    "        if (player not in anygoal_data.Player.unique()):\n",
    "            anygoal_data = anygoal_data.append({'Player' : \"{}\".format(player), 'Participation' : 0, 'MVP' : 0, \n",
    "                                                'Assists' : 0, 'Result' : 0, 'BGK' : 0,\n",
    "                                                'Goals' : 0, 'Point_System' : 0}, ignore_index = True)\n",
    "\n",
    "    # Merge the anybrain_df with anygoal\n",
    "    merged_df = anybrain_df.merge(anygoal_data, left_on='Player', right_on='Player')\n",
    "    merged_df.drop(['Unnamed: 0',\"Participation\", \"Goals\", \n",
    "                    \"Assists\", \"Own_Goals\", \"Result\", \"Overall\", \"Overall_No_GK\", \"MVP\", \"BGK\"], axis=1, inplace=True)\n",
    "    \n",
    "    return merged_df"
   ]
  },
  {
   "cell_type": "code",
   "execution_count": null,
   "id": "c93c6834",
   "metadata": {},
   "outputs": [],
   "source": [
    "merged_df = treat_and_merge(anybrain_df, anygoal_data)"
   ]
  },
  {
   "cell_type": "code",
   "execution_count": null,
   "id": "acdaf56f",
   "metadata": {},
   "outputs": [],
   "source": [
    "data_players = merged_df[merged_df.Player.isin(available_players)]\n",
    "data_players"
   ]
  },
  {
   "cell_type": "code",
   "execution_count": null,
   "id": "69326152",
   "metadata": {
    "code_folding": []
   },
   "outputs": [],
   "source": [
    "def parallel_algorithm(df, n_process=8):\n",
    "    # Split the iterations between the available processes\n",
    "    counter = int(450000 / n_process)\n",
    "    \n",
    "    # Create a list that will contain the final dataframe\n",
    "    final_list = Manager().list()\n",
    "    \n",
    "    seeds = [random.randint(1, 25) for _ in range(n_process)]\n",
    "    \n",
    "    with ProcessPoolExecutor(max_workers=n_process) as executor:\n",
    "        futures = [executor.submit(balance_dfs, df, seed, counter) for seed in seeds]\n",
    "        for future in futures:\n",
    "            result = future.result()\n",
    "            final_list.extend(result)\n",
    "\n",
    "    return pd.DataFrame.from_records(final_list).drop_duplicates(subset=['A_team'])\n"
   ]
  },
  {
   "cell_type": "code",
   "execution_count": null,
   "id": "ffcaa946",
   "metadata": {
    "scrolled": true
   },
   "outputs": [],
   "source": [
    "df = parallel_algorithm(data_players, n_process=16)\n",
    "df.to_csv('./combination.csv', index=False)"
   ]
  },
  {
   "cell_type": "code",
   "execution_count": null,
   "id": "7b4a33ae",
   "metadata": {},
   "outputs": [],
   "source": [
    "def build_game_sheet(A, B):\n",
    "    # Prepare the initial settings\n",
    "    tmp = [\"Jogador_1\", \"Jogador_2\", \"Jogador_3\", \"Jogador_4\", \"Jogador_5\", \"Jogador_6\", \"Jogador_7\", \"Jogador_8\", \"Jogador_9\", \"Jogador_10\"]\n",
    "    tmp2 = A + B\n",
    "    full_players = dict(zip(tmp,tmp2))\n",
    "    \n",
    "    # Remove any previous existing game sheet\n",
    "    if os.path.exists(\"./Anygoal_Template.docx\"):\n",
    "        os.remove(\"./Anygoal_Template.docx\")\n",
    "\n",
    "    # Open the template file\n",
    "    doc = docx.Document(\"./template/Anygoal_Template.docx\")\n",
    "    \n",
    "    # Search any cell with string equal to tmp and replace it with tmp2 values\n",
    "    for table in doc.tables:\n",
    "        for row in table.rows:\n",
    "            for cell in row.cells:\n",
    "                if cell.text in full_players:\n",
    "                    cell.text = cell.text.replace(cell.text, full_players[cell.text])\n",
    "\n",
    "    # Save the new game sheet\n",
    "    doc.save(\"./Anygoal_Template.docx\")\n",
    "    \n",
    "\n",
    "def get_best_combination(df):\n",
    "    # Get the list of values\n",
    "    mean_smallest = df[\"Mean_Distance\"].nsmallest(3).tolist()\n",
    "    median_smallest = df[\"Median_Distance\"].nsmallest(3).tolist()\n",
    "    mean_without_fst_max_smallest = df[\"Mean_Distance_without_fst_Max\"].nsmallest(3).tolist()\n",
    "    median_without_fst_max_smallest = df[\"Median_Distance_without_fst_Max\"].nsmallest(3).tolist()\n",
    "    eucDistance = df[\"Euclidian_Distance\"].nsmallest(3).tolist()\n",
    "    cosSim = df[\"Cosine_Similarity\"].nlargest(3).tolist()\n",
    "    \n",
    "    df[\"Score\"] = 0\n",
    "    for i in range(3):\n",
    "        mask_mean = df[\"Mean_Distance\"] == mean_smallest[i]\n",
    "        mask_median = df[\"Median_Distance\"] == median_smallest[i]\n",
    "        mask_euc = df[\"Euclidian_Distance\"] == eucDistance[i]\n",
    "        mask_cos = df[\"Cosine_Similarity\"] == cosSim[i]\n",
    "        mask_mean_without_fst_max = df[\"Mean_Distance_without_fst_Max\"] == mean_without_fst_max_smallest[i]\n",
    "        mask_median_without_fst_max = df[\"Median_Distance_without_fst_Max\"] == median_without_fst_max_smallest[i]\n",
    "\n",
    "        df.loc[mask_mean, \"Score\"] += (5 - 2 * i)\n",
    "        df.loc[mask_median, \"Score\"] += (5 - 2 * i)\n",
    "        df.loc[mask_euc, \"Score\"] += (5 - 2 * i)\n",
    "        df.loc[mask_cos, \"Score\"] += (5 - 2 * i)\n",
    "        df.loc[mask_mean_without_fst_max, \"Score\"] += (5 - 2 * i)\n",
    "        df.loc[mask_median_without_fst_max, \"Score\"] += (5 - 2 * i)\n",
    "\n",
    "    highest_score_index = df[\"Score\"].idxmax()\n",
    "    highest_score = df.loc[highest_score_index, [\"A_team\", \"B_team\"]].copy()\n",
    "    return highest_score[\"A_team\"].split(), highest_score[\"B_team\"].split()"
   ]
  },
  {
   "cell_type": "code",
   "execution_count": null,
   "id": "1eb0c187",
   "metadata": {},
   "outputs": [],
   "source": [
    "# Get the A, B teams\n",
    "A, B = get_best_combination(df)\n",
    "# Write the game sheet\n",
    "build_game_sheet(A, B)"
   ]
  },
  {
   "cell_type": "code",
   "execution_count": null,
   "id": "11b0182b",
   "metadata": {},
   "outputs": [],
   "source": [
    "def start_eleven(team, players):\n",
    "    # Open and create the image object so it can be ready to be edited\n",
    "    starter = Image.open(\"./template/five_side.png\")\n",
    "    draw = ImageDraw.Draw(starter) \n",
    "    # Font\n",
    "    font = ImageFont.truetype(\"./template/newsgott-regular.ttf\", 17)\n",
    "\n",
    "    # Long Names: ST, LW, RW, CB, GR\n",
    "    text_pos = [(270,190), (140,300), (390,300),(270,375),(270,495)]\n",
    "\n",
    "    # Short Names: ST, LW, RW, CB, GR\n",
    "    text_pos_v2 = [(270,190), (140,300), (390,300),(270,375),(270,495)]\n",
    "\n",
    "    for i in range(0,5):\n",
    "        # Center players with short names\n",
    "        if len(players[i]) <= 9:\n",
    "            draw.text(tuple(map(operator.add, text_pos[i],(25,0))), players[i], font=font)\n",
    "        else: \n",
    "            draw.text(text_pos[i], players[i], font=font)\n",
    "\n",
    "    if team.upper() == \"A\": starter.save(\"./teamA.png\")\n",
    "    else: starter.save(\"./teamB.png\")"
   ]
  },
  {
   "cell_type": "code",
   "execution_count": null,
   "id": "c562dee9",
   "metadata": {},
   "outputs": [],
   "source": [
    "# Output the teams\n",
    "start_eleven(\"A\", A)\n",
    "start_eleven(\"B\", B)"
   ]
  },
  {
   "cell_type": "code",
   "execution_count": null,
   "id": "06f59227",
   "metadata": {},
   "outputs": [],
   "source": [
    "A"
   ]
  },
  {
   "cell_type": "code",
   "execution_count": null,
   "id": "de57e02e",
   "metadata": {},
   "outputs": [],
   "source": [
    "B"
   ]
  },
  {
   "cell_type": "code",
   "execution_count": null,
   "id": "7cb82dd4",
   "metadata": {},
   "outputs": [],
   "source": []
  }
 ],
 "metadata": {
  "kernelspec": {
   "display_name": "Python 3 (ipykernel)",
   "language": "python",
   "name": "python3"
  },
  "language_info": {
   "codemirror_mode": {
    "name": "ipython",
    "version": 3
   },
   "file_extension": ".py",
   "mimetype": "text/x-python",
   "name": "python",
   "nbconvert_exporter": "python",
   "pygments_lexer": "ipython3",
   "version": "3.9.13"
  }
 },
 "nbformat": 4,
 "nbformat_minor": 5
}
